{
 "cells": [
  {
   "cell_type": "code",
   "execution_count": 1,
   "metadata": {},
   "outputs": [],
   "source": [
    "# Third party import\n",
    "import pysap\n",
    "from pysap.data import get_sample_data\n",
    "from modopt.math.metrics import ssim\n",
    "from modopt.opt.linear import Identity\n",
    "from modopt.opt.proximity import SparseThreshold\n",
    "import numpy as np\n",
    "import matplotlib.pyplot as plt\n"
   ]
  },
  {
   "cell_type": "code",
   "execution_count": 2,
   "metadata": {},
   "outputs": [],
   "source": [
    "from etomo.operators import Radon2D, WaveletPywt, HOTV\n",
    "from etomo.reconstructors.forwardradon import RadonReconstructor"
   ]
  },
  {
   "cell_type": "code",
   "execution_count": 3,
   "metadata": {},
   "outputs": [],
   "source": [
    "# Loading input data\n",
    "image = get_sample_data('2d-mri')\n",
    "img_size = image.shape[0]"
   ]
  },
  {
   "cell_type": "code",
   "execution_count": 4,
   "metadata": {},
   "outputs": [],
   "source": [
    "# Create radon operator and simulate data\n",
    "theta = np.arange(0., 180., 3.)\n",
    "radon_op = Radon2D(angles=theta, img_size=img_size, gpu=True)\n",
    "data = radon_op.op(image)"
   ]
  },
  {
   "cell_type": "code",
   "execution_count": 10,
   "metadata": {},
   "outputs": [],
   "source": [
    "# Create operators: we give Identity to SparseThreshold as the inputs it will\n",
    "# be given will already be in the linear operator's image space\n",
    "TV = HOTV(img_shape=image.shape, order=2)\n",
    "wavelet = WaveletPywt(wavelet_name='sym8', nb_scale=3)\n",
    "linear_op = wavelet"
   ]
  },
  {
   "cell_type": "code",
   "execution_count": 11,
   "metadata": {},
   "outputs": [
    {
     "name": "stderr",
     "output_type": "stream",
     "text": [
      "WARNING: Making input data immutable.\n"
     ]
    }
   ],
   "source": [
    "regularizer_op = SparseThreshold(linear=Identity(), weights=2e-6)\n",
    "reconstructor = RadonReconstructor(\n",
    "    data_op=radon_op,\n",
    "    linear_op=linear_op,\n",
    "    regularizer_op=regularizer_op,\n",
    "    gradient_formulation='analysis',\n",
    ")"
   ]
  },
  {
   "cell_type": "code",
   "execution_count": 12,
   "metadata": {},
   "outputs": [
    {
     "name": "stderr",
     "output_type": "stream",
     "text": [
      "100% (300 of 300) |######################| Elapsed Time: 0:00:12 Time:  0:00:12\n"
     ]
    }
   ],
   "source": [
    "# Run reconstruction\n",
    "x_final, cost, *_ = reconstructor.reconstruct(\n",
    "    data=data,\n",
    "    optimization_alg='condatvu',\n",
    "    num_iterations=300,\n",
    "    cost_op_kwargs={'cost_interval': 5}\n",
    ")"
   ]
  },
  {
   "cell_type": "code",
   "execution_count": 14,
   "metadata": {},
   "outputs": [
    {
     "data": {
      "image/png": "[encoded data removed]",
      "text/plain": [
       "<Figure size 432x288 with 1 Axes>"
      ]
     },
     "metadata": {
      "needs_background": "light"
     },
     "output_type": "display_data"
    },
    {
     "name": "stdout",
     "output_type": "stream",
     "text": [
      "The Reconstruction SSIM is:  0.853015\n"
     ]
    }
   ],
   "source": [
    "# Results\n",
    "plt.plot(cost)\n",
    "plt.yscale('log')\n",
    "plt.show()\n",
    "image_rec = pysap.Image(data=x_final)\n",
    "image_rec.show()\n",
    "recon_ssim = ssim(image_rec, image)\n",
    "#print('The Reconstruction SSIM is : ' + str(recon_ssim))\n",
    "print(f'The Reconstruction SSIM is: {recon_ssim: 2f}')"
   ]
  }
 ],
 "metadata": {
  "kernelspec": {
   "display_name": "Python 3",
   "language": "python",
   "name": "python3"
  },
  "language_info": {
   "codemirror_mode": {
    "name": "ipython",
    "version": 3
   },
   "file_extension": ".py",
   "mimetype": "text/x-python",
   "name": "python",
   "nbconvert_exporter": "python",
   "pygments_lexer": "ipython3",
   "version": "3.6.9"
  }
 },
 "nbformat": 4,
 "nbformat_minor": 4
}
