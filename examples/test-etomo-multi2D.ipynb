{
 "cells": [
  {
   "cell_type": "code",
   "execution_count": 5,
   "metadata": {},
   "outputs": [],
   "source": [
    "## Example of multiple images reconstruction"
   ]
  },
  {
   "cell_type": "code",
   "execution_count": null,
   "metadata": {},
   "outputs": [],
   "source": []
  },
  {
   "cell_type": "code",
   "execution_count": null,
   "metadata": {},
   "outputs": [],
   "source": []
  },
  {
   "cell_type": "code",
   "execution_count": 6,
   "metadata": {},
   "outputs": [],
   "source": [
    "# Third party import\n",
    "import pysap\n",
    "from pysap.data import get_sample_data\n",
    "from modopt.math.metrics import ssim\n",
    "from modopt.opt.proximity import GroupLASSO\n",
    "import numpy as np\n",
    "import matplotlib.pyplot as plt\n",
    "\n",
    "from etomo.operators import Radon2D, WaveletPywt, HOTV\n",
    "from etomo.reconstructors.forwardradon import RadonReconstructor\n"
   ]
  },
  {
   "cell_type": "code",
   "execution_count": 7,
   "metadata": {},
   "outputs": [],
   "source": [
    "# Loading input data\n",
    "image = get_sample_data('2d-pmri')\n",
    "n_channels, img_size, _ = image.shape"
   ]
  },
  {
   "cell_type": "code",
   "execution_count": 8,
   "metadata": {},
   "outputs": [],
   "source": [
    "# Create radon operator and simulate data\n",
    "theta = np.arange(0., 180., 3.)\n",
    "radon_op = Radon2D(angles=theta, img_size=img_size, gpu=True,\n",
    "                   n_channels=n_channels)\n",
    "data = radon_op.op(image)"
   ]
  },
  {
   "cell_type": "code",
   "execution_count": 9,
   "metadata": {},
   "outputs": [],
   "source": [
    "# Create operators\n",
    "TV = HOTV(img_shape=image[0].shape, order=1, n_channels=n_channels)\n",
    "wavelet = WaveletPywt(wavelet_name='sym8', nb_scale=3, n_channels=n_channels)\n",
    "linear_op = wavelet"
   ]
  },
  {
   "cell_type": "code",
   "execution_count": 10,
   "metadata": {},
   "outputs": [
    {
     "name": "stderr",
     "output_type": "stream",
     "text": [
      "WARNING: Making input data immutable.\n"
     ]
    }
   ],
   "source": [
    "regularizer_op = GroupLASSO(weights=1e-7)\n",
    "reconstructor = RadonReconstructor(\n",
    "    data_op=radon_op,\n",
    "    linear_op=linear_op,\n",
    "    regularizer_op=regularizer_op,\n",
    "    gradient_formulation='synthesis',\n",
    ")\n"
   ]
  },
  {
   "cell_type": "code",
   "execution_count": 11,
   "metadata": {},
   "outputs": [
    {
     "name": "stderr",
     "output_type": "stream",
     "text": [
      "WARNING: Making input data immutable.\n",
      "100% (200 of 200) |######################| Elapsed Time: 0:03:29 Time:  0:03:29\n"
     ]
    }
   ],
   "source": [
    "# Run reconstruction\n",
    "x_final, cost, *_ = reconstructor.reconstruct(\n",
    "    data=data,\n",
    "    optimization_alg='pogm',\n",
    "    num_iterations=200,\n",
    "    cost_op_kwargs={'cost_interval': 5}\n",
    ")\n"
   ]
  },
  {
   "cell_type": "code",
   "execution_count": 18,
   "metadata": {},
   "outputs": [
    {
     "data": {
      "image/png": "[encoded data removed]",
      "text/plain": [
       "<Figure size 432x288 with 1 Axes>"
      ]
     },
     "metadata": {
      "needs_background": "light"
     },
     "output_type": "display_data"
    },
    {
     "name": "stdout",
     "output_type": "stream",
     "text": [
      "The Reconstruction SSIM is:  0.927435\n"
     ]
    }
   ],
   "source": [
    "# Results\n",
    "plt.plot(cost)\n",
    "plt.yscale('log')\n",
    "plt.show()\n",
    "\n",
    "image_ref = pysap.Image(data=np.sqrt(np.sum(image.data**2, axis=0)))\n",
    "image_rec = pysap.Image(data=np.sqrt(np.sum(np.abs(x_final)**2, axis=0)))\n",
    "recon_ssim = ssim(image_rec, image_ref)\n",
    "print(f'The Reconstruction SSIM is: {recon_ssim: 2f}')\n",
    "#print('The Reconstruction SSIM is: {}'.format(recon_ssim))\n",
    "image_rec.show()\n"
   ]
  }
 ],
 "metadata": {
  "kernelspec": {
   "display_name": "Python 3",
   "language": "python",
   "name": "python3"
  },
  "language_info": {
   "codemirror_mode": {
    "name": "ipython",
    "version": 3
   },
   "file_extension": ".py",
   "mimetype": "text/x-python",
   "name": "python",
   "nbconvert_exporter": "python",
   "pygments_lexer": "ipython3",
   "version": "3.6.9"
  }
 },
 "nbformat": 4,
 "nbformat_minor": 4
}
